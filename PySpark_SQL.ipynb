{
  "cells": [
    {
      "cell_type": "markdown",
      "metadata": {
        "id": "view-in-github",
        "colab_type": "text"
      },
      "source": [
        "<a href=\"https://colab.research.google.com/github/gisleinemoreno/data_science/blob/main/PySpark_SQL.ipynb\" target=\"_parent\"><img src=\"https://colab.research.google.com/assets/colab-badge.svg\" alt=\"Open In Colab\"/></a>"
      ]
    },
    {
      "cell_type": "markdown",
      "metadata": {
        "id": "zqBz0IIZuC3p"
      },
      "source": [
        "**ANÁLISE DE RISCO NO TRANSPORTE PÚBLICO DE LONDRES**\n",
        "*   Será analisado um conjunto de dados que lista incidentes ocorridos na cidade de Londres.\n",
        "\n",
        "*   O objetivo é analisar dados e construir gráficos que respondam as 10 perguntas abaixo:\n",
        "\n",
        "1. Qual a quantidade de incidentes por gênero?\n",
        "2.Qual faixa etária esteve mais envolvida nos incidentes?\n",
        "\n",
        "3. Qual o percentual de incidentes por tipo de evento (Incident Event Type)?\n",
        "\n",
        "4. Como foi a evolução de incidentes por mês ao longo do tempo?\n",
        "\n",
        "5. Quando o incidente foi “Collision Incident” em qual mês houve o maior número de incidentes envolvendo pessoas do sexo feminino?\n",
        "\n",
        "6. Qual foi a média de incidentes por mês envolvendo crianças (Child)?\n",
        "\n",
        "7. Considerando a descrição de incidente como “Injuries treated on scene” (coluna Injury Result Description), qual o total de incidentes de pessoas do sexo masculino e sexo feminino?\n",
        "\n",
        "8. No ano de 2017 em qual mês houve mais incidentes com idosos (Elderly)?\n",
        "\n",
        "9. Considerando o Operador qual a distribuição de incidentes ao longo do tempo?\n",
        "\n",
        "10. Qual o tipo de incidente mais comum com ciclistas?"
      ]
    },
    {
      "cell_type": "code",
      "execution_count": null,
      "metadata": {
        "colab": {
          "base_uri": "https://localhost:8080/"
        },
        "id": "IkSaMA8ibcmc",
        "outputId": "3a507d80-94f4-46f0-d094-231bada643fa"
      },
      "outputs": [
        {
          "output_type": "stream",
          "name": "stdout",
          "text": [
            "Drive already mounted at /content/drive; to attempt to forcibly remount, call drive.mount(\"/content/drive\", force_remount=True).\n"
          ]
        }
      ],
      "source": [
        "from google.colab import drive\n",
        "drive.mount('/content/drive')"
      ]
    },
    {
      "cell_type": "code",
      "execution_count": null,
      "metadata": {
        "colab": {
          "base_uri": "https://localhost:8080/"
        },
        "id": "Ov4CzNufhKUv",
        "outputId": "e1b1a8a5-f93a-4315-c019-e7b4ae02aba6"
      },
      "outputs": [
        {
          "output_type": "stream",
          "name": "stdout",
          "text": [
            "Versão da Linguagem Python Usada Neste Jupyter Notebook: 3.10.12\n"
          ]
        }
      ],
      "source": [
        "# Versão da Linguagem Python\n",
        "from platform import python_version\n",
        "print('Versão da Linguagem Python Usada Neste Jupyter Notebook:', python_version())"
      ]
    },
    {
      "cell_type": "code",
      "execution_count": null,
      "metadata": {
        "colab": {
          "base_uri": "https://localhost:8080/"
        },
        "id": "hnc1CK4HhLH9",
        "outputId": "847fe06c-f475-4c21-a197-b318c9f39aac"
      },
      "outputs": [
        {
          "output_type": "stream",
          "name": "stdout",
          "text": [
            "DISTRIB_ID=Ubuntu\n",
            "DISTRIB_RELEASE=22.04\n",
            "DISTRIB_CODENAME=jammy\n",
            "DISTRIB_DESCRIPTION=\"Ubuntu 22.04.2 LTS\"\n",
            "PRETTY_NAME=\"Ubuntu 22.04.2 LTS\"\n",
            "NAME=\"Ubuntu\"\n",
            "VERSION_ID=\"22.04\"\n",
            "VERSION=\"22.04.2 LTS (Jammy Jellyfish)\"\n",
            "VERSION_CODENAME=jammy\n",
            "ID=ubuntu\n",
            "ID_LIKE=debian\n",
            "HOME_URL=\"https://www.ubuntu.com/\"\n",
            "SUPPORT_URL=\"https://help.ubuntu.com/\"\n",
            "BUG_REPORT_URL=\"https://bugs.launchpad.net/ubuntu/\"\n",
            "PRIVACY_POLICY_URL=\"https://www.ubuntu.com/legal/terms-and-policies/privacy-policy\"\n",
            "UBUNTU_CODENAME=jammy\n"
          ]
        }
      ],
      "source": [
        "# Versão Linux do Google Colab\n",
        "!cat /etc/*release"
      ]
    },
    {
      "cell_type": "code",
      "execution_count": null,
      "metadata": {
        "colab": {
          "base_uri": "https://localhost:8080/"
        },
        "id": "b8Xt40NyhLOI",
        "outputId": "2658dd8f-b3e5-4acf-a13e-8b506c8d6f8f"
      },
      "outputs": [
        {
          "output_type": "stream",
          "name": "stdout",
          "text": [
            "openjdk version \"11.0.20\" 2023-07-18\n",
            "OpenJDK Runtime Environment (build 11.0.20+8-post-Ubuntu-1ubuntu122.04)\n",
            "OpenJDK 64-Bit Server VM (build 11.0.20+8-post-Ubuntu-1ubuntu122.04, mixed mode, sharing)\n"
          ]
        }
      ],
      "source": [
        "# Versão Java\n",
        "!java -version"
      ]
    },
    {
      "cell_type": "markdown",
      "metadata": {
        "id": "xD57pNQHKZWd"
      },
      "source": [
        "https://archive.apache.org/dist/spark/"
      ]
    },
    {
      "cell_type": "code",
      "execution_count": null,
      "metadata": {
        "id": "amtRv-wxhLRH"
      },
      "outputs": [],
      "source": [
        "# Download dos binários do Spark\n",
        "!wget -q https://archive.apache.org/dist/spark/spark-3.4.1/spark-3.4.1-bin-hadoop3.tgz"
      ]
    },
    {
      "cell_type": "code",
      "execution_count": null,
      "metadata": {
        "id": "TPcNae7HhLT7"
      },
      "outputs": [],
      "source": [
        "# Descompacta o arquivo\n",
        "!tar xf spark-3.4.1-bin-hadoop3.tgz"
      ]
    },
    {
      "cell_type": "code",
      "execution_count": null,
      "metadata": {
        "id": "lBhkRHvkhLWt",
        "colab": {
          "base_uri": "https://localhost:8080/"
        },
        "outputId": "61009439-13e2-4a85-dfb7-15fdf55fa39a"
      },
      "outputs": [
        {
          "output_type": "stream",
          "name": "stdout",
          "text": [
            "drive\t     spark-3.4.1-bin-hadoop3\t  spark-3.4.1-bin-hadoop3.tgz.1\n",
            "sample_data  spark-3.4.1-bin-hadoop3.tgz  TFL_Bus_Safety.csv\n"
          ]
        }
      ],
      "source": [
        "# Lista o conteúdo da pasta local\n",
        "!ls"
      ]
    },
    {
      "cell_type": "code",
      "execution_count": null,
      "metadata": {
        "id": "Av9j9YRfhLZj",
        "colab": {
          "base_uri": "https://localhost:8080/"
        },
        "outputId": "5f8cb7f4-55e2-4ce6-c9e4-98c105e7f7dc"
      },
      "outputs": [
        {
          "output_type": "stream",
          "name": "stdout",
          "text": [
            "drive\t     spark-3.4.1-bin-hadoop3\t  spark-3.4.1-bin-hadoop3.tgz.1\n",
            "sample_data  spark-3.4.1-bin-hadoop3.tgz  TFL_Bus_Safety.csv\n"
          ]
        }
      ],
      "source": [
        "# Lista o conteúdo da pasta local\n",
        "!ls /content"
      ]
    },
    {
      "cell_type": "code",
      "execution_count": null,
      "metadata": {
        "id": "56Fsi3kZhLci"
      },
      "outputs": [],
      "source": [
        "# Define a variável de ambiente SPARK_HOME\n",
        "import os\n",
        "os.environ[\"SPARK_HOME\"] = \"/content/spark-3.4.1-bin-hadoop3\""
      ]
    },
    {
      "cell_type": "code",
      "execution_count": null,
      "metadata": {
        "id": "HZE0sHqNhLfi"
      },
      "outputs": [],
      "source": [
        "# Instala o findspark\n",
        "!pip install -q findspark"
      ]
    },
    {
      "cell_type": "code",
      "execution_count": null,
      "metadata": {
        "id": "ZGwPD4PchLiT",
        "colab": {
          "base_uri": "https://localhost:8080/",
          "height": 219
        },
        "outputId": "e8ab265a-8f92-4f43-926c-cfc21a8a8b3d"
      },
      "outputs": [
        {
          "output_type": "execute_result",
          "data": {
            "text/plain": [
              "<pyspark.sql.session.SparkSession at 0x7ceed033f400>"
            ],
            "text/html": [
              "\n",
              "            <div>\n",
              "                <p><b>SparkSession - in-memory</b></p>\n",
              "                \n",
              "        <div>\n",
              "            <p><b>SparkContext</b></p>\n",
              "\n",
              "            <p><a href=\"http://7171cec91de6:4040\">Spark UI</a></p>\n",
              "\n",
              "            <dl>\n",
              "              <dt>Version</dt>\n",
              "                <dd><code>v3.4.1</code></dd>\n",
              "              <dt>Master</dt>\n",
              "                <dd><code>local[*]</code></dd>\n",
              "              <dt>AppName</dt>\n",
              "                <dd><code>pyspark-shell</code></dd>\n",
              "            </dl>\n",
              "        </div>\n",
              "        \n",
              "            </div>\n",
              "        "
            ]
          },
          "metadata": {},
          "execution_count": 161
        }
      ],
      "source": [
        "# Importa os pacotes e cria a sessão Spark\n",
        "import findspark\n",
        "findspark.init()\n",
        "from pyspark.sql import SparkSession\n",
        "spark = SparkSession.builder.master(\"local[*]\").getOrCreate()\n",
        "# Propriedade usada para formatar melhor as tabelas de saída\n",
        "spark.conf.set(\"spark.sql.repl.eagerEval.enabled\", True)\n",
        "spark"
      ]
    },
    {
      "cell_type": "markdown",
      "metadata": {
        "id": "2fZZdCkxKqIZ"
      },
      "source": [
        "Faça o upload do arquivo de dados usando o botão do lado esquerdo."
      ]
    },
    {
      "cell_type": "code",
      "execution_count": null,
      "metadata": {
        "id": "HHxsixSZKvem"
      },
      "outputs": [],
      "source": [
        "# Carrega o dataset\n",
        "df_dsa = spark.read.csv('TFL_Bus_Safety.csv', header = True, sep = \",\",inferSchema = True)"
      ]
    },
    {
      "cell_type": "code",
      "execution_count": null,
      "metadata": {
        "colab": {
          "base_uri": "https://localhost:8080/"
        },
        "id": "0KCr0YikMtVF",
        "outputId": "8f4277b0-0c3b-4008-d6f6-30354c8b7531"
      },
      "outputs": [
        {
          "output_type": "stream",
          "name": "stdout",
          "text": [
            "+----+----------------+-----+--------------+----------+--------------------+-------------------+-------------------------+-------------------+---------------+-----------+-----------+\n",
            "|Year|Date Of Incident|Route|      Operator|Group Name|          Bus Garage|            Borough|Injury Result Description|Incident Event Type|Victim Category|Victims Sex|Victims Age|\n",
            "+----+----------------+-----+--------------+----------+--------------------+-------------------+-------------------------+-------------------+---------------+-----------+-----------+\n",
            "|2015|      2015-01-01|    1|London General|  Go-Ahead|Garage Not Available|          Southwark|     Injuries treated ...|   Onboard Injuries|      Passenger|       Male|      Child|\n",
            "|2015|      2015-01-01|    4|     Metroline| Metroline|Garage Not Available|          Islington|     Injuries treated ...|   Onboard Injuries|      Passenger|       Male|    Unknown|\n",
            "|2015|      2015-01-01|    5|   East London|Stagecoach|Garage Not Available|           Havering|     Taken to Hospital...|   Onboard Injuries|      Passenger|       Male|    Elderly|\n",
            "|2015|      2015-01-01|    5|   East London|Stagecoach|Garage Not Available|None London Borough|     Taken to Hospital...|   Onboard Injuries|      Passenger|       Male|    Elderly|\n",
            "|2015|      2015-01-01|    6|     Metroline| Metroline|Garage Not Available|        Westminster|     Reported Minor In...|   Onboard Injuries|     Pedestrian|     Female|    Elderly|\n",
            "+----+----------------+-----+--------------+----------+--------------------+-------------------+-------------------------+-------------------+---------------+-----------+-----------+\n",
            "only showing top 5 rows\n",
            "\n"
          ]
        }
      ],
      "source": [
        "# Visualiza as primeiras linhas\n",
        "df_dsa.show(5)"
      ]
    },
    {
      "cell_type": "code",
      "execution_count": null,
      "metadata": {
        "colab": {
          "base_uri": "https://localhost:8080/"
        },
        "id": "8y4sIDI_MtX0",
        "outputId": "1a0c1f6e-0df9-406b-db25-29c0b5bf9ff6"
      },
      "outputs": [
        {
          "output_type": "stream",
          "name": "stdout",
          "text": [
            "+----+----------------+-----+--------------+----------+--------------------+-------------------+---------------------------------------------------------------+-------------------+---------------+-----------+-----------+\n",
            "|Year|Date Of Incident|Route|Operator      |Group Name|Bus Garage          |Borough            |Injury Result Description                                      |Incident Event Type|Victim Category|Victims Sex|Victims Age|\n",
            "+----+----------------+-----+--------------+----------+--------------------+-------------------+---------------------------------------------------------------+-------------------+---------------+-----------+-----------+\n",
            "|2015|2015-01-01      |1    |London General|Go-Ahead  |Garage Not Available|Southwark          |Injuries treated on scene                                      |Onboard Injuries   |Passenger      |Male       |Child      |\n",
            "|2015|2015-01-01      |4    |Metroline     |Metroline |Garage Not Available|Islington          |Injuries treated on scene                                      |Onboard Injuries   |Passenger      |Male       |Unknown    |\n",
            "|2015|2015-01-01      |5    |East London   |Stagecoach|Garage Not Available|Havering           |Taken to Hospital � Reported Serious Injury or Severity Unknown|Onboard Injuries   |Passenger      |Male       |Elderly    |\n",
            "|2015|2015-01-01      |5    |East London   |Stagecoach|Garage Not Available|None London Borough|Taken to Hospital � Reported Serious Injury or Severity Unknown|Onboard Injuries   |Passenger      |Male       |Elderly    |\n",
            "|2015|2015-01-01      |6    |Metroline     |Metroline |Garage Not Available|Westminster        |Reported Minor Injury - Treated at Hospital                    |Onboard Injuries   |Pedestrian     |Female     |Elderly    |\n",
            "+----+----------------+-----+--------------+----------+--------------------+-------------------+---------------------------------------------------------------+-------------------+---------------+-----------+-----------+\n",
            "only showing top 5 rows\n",
            "\n"
          ]
        }
      ],
      "source": [
        "# Visualiza as primeiras linhas sem truncate\n",
        "df_dsa.show(5, truncate = False)"
      ]
    },
    {
      "cell_type": "code",
      "execution_count": null,
      "metadata": {
        "colab": {
          "base_uri": "https://localhost:8080/"
        },
        "id": "qw3ysoLiMtaz",
        "outputId": "8c442335-be36-469f-9e27-c6487c2733f4"
      },
      "outputs": [
        {
          "output_type": "execute_result",
          "data": {
            "text/plain": [
              "['Year',\n",
              " 'Date Of Incident',\n",
              " 'Route',\n",
              " 'Operator',\n",
              " 'Group Name',\n",
              " 'Bus Garage',\n",
              " 'Borough',\n",
              " 'Injury Result Description',\n",
              " 'Incident Event Type',\n",
              " 'Victim Category',\n",
              " 'Victims Sex',\n",
              " 'Victims Age']"
            ]
          },
          "metadata": {},
          "execution_count": 165
        }
      ],
      "source": [
        "# Colunas do dataset\n",
        "df_dsa.columns"
      ]
    },
    {
      "cell_type": "code",
      "execution_count": null,
      "metadata": {
        "colab": {
          "base_uri": "https://localhost:8080/"
        },
        "id": "xDqcwkJKMtdl",
        "outputId": "f8dbab34-cd0e-4689-8af9-821363bc48fc"
      },
      "outputs": [
        {
          "output_type": "execute_result",
          "data": {
            "text/plain": [
              "[('Year', 'int'),\n",
              " ('Date Of Incident', 'date'),\n",
              " ('Route', 'string'),\n",
              " ('Operator', 'string'),\n",
              " ('Group Name', 'string'),\n",
              " ('Bus Garage', 'string'),\n",
              " ('Borough', 'string'),\n",
              " ('Injury Result Description', 'string'),\n",
              " ('Incident Event Type', 'string'),\n",
              " ('Victim Category', 'string'),\n",
              " ('Victims Sex', 'string'),\n",
              " ('Victims Age', 'string')]"
            ]
          },
          "metadata": {},
          "execution_count": 166
        }
      ],
      "source": [
        "# Tipos de dados\n",
        "df_dsa.dtypes"
      ]
    },
    {
      "cell_type": "code",
      "execution_count": null,
      "metadata": {
        "colab": {
          "base_uri": "https://localhost:8080/"
        },
        "id": "AaFK4kbqMtga",
        "outputId": "fca7dee2-6194-47ee-8e5f-27a346979f1d"
      },
      "outputs": [
        {
          "output_type": "stream",
          "name": "stdout",
          "text": [
            "root\n",
            " |-- Year: integer (nullable = true)\n",
            " |-- Date Of Incident: date (nullable = true)\n",
            " |-- Route: string (nullable = true)\n",
            " |-- Operator: string (nullable = true)\n",
            " |-- Group Name: string (nullable = true)\n",
            " |-- Bus Garage: string (nullable = true)\n",
            " |-- Borough: string (nullable = true)\n",
            " |-- Injury Result Description: string (nullable = true)\n",
            " |-- Incident Event Type: string (nullable = true)\n",
            " |-- Victim Category: string (nullable = true)\n",
            " |-- Victims Sex: string (nullable = true)\n",
            " |-- Victims Age: string (nullable = true)\n",
            "\n"
          ]
        }
      ],
      "source": [
        "# Schema\n",
        "df_dsa.printSchema()"
      ]
    },
    {
      "cell_type": "code",
      "execution_count": null,
      "metadata": {
        "colab": {
          "base_uri": "https://localhost:8080/"
        },
        "id": "rl7yr5Y9Mti4",
        "outputId": "86a18b62-6700-422d-bddb-114601966f26"
      },
      "outputs": [
        {
          "output_type": "stream",
          "name": "stdout",
          "text": [
            "root\n",
            " |-- Year: integer (nullable = true)\n",
            " |-- Date Of Incident: date (nullable = true)\n",
            " |-- Route: string (nullable = true)\n",
            " |-- Operator: string (nullable = true)\n",
            " |-- Group Name: string (nullable = true)\n",
            " |-- Bus Garage: string (nullable = true)\n",
            " |-- Borough: string (nullable = true)\n",
            " |-- Injury Result Description: string (nullable = true)\n",
            " |-- Incident Event Type: string (nullable = true)\n",
            " |-- Victim Category: string (nullable = true)\n",
            " |-- Victims Sex: string (nullable = true)\n",
            " |-- Victims Age: string (nullable = true)\n",
            "\n"
          ]
        }
      ],
      "source": [
        "# Faz a inferência do schema ao carregar o dataset\n",
        "df_dsa = spark.read.csv('TFL_Bus_Safety.csv', header = True, sep = \",\", inferSchema = True)\n",
        "df_dsa.printSchema()"
      ]
    },
    {
      "cell_type": "code",
      "execution_count": null,
      "metadata": {
        "colab": {
          "base_uri": "https://localhost:8080/"
        },
        "id": "TEciedh1ILu7",
        "outputId": "9ebf3dc6-c54c-4884-94a1-2568f8f81713"
      },
      "outputs": [
        {
          "output_type": "execute_result",
          "data": {
            "text/plain": [
              "['Year',\n",
              " 'Date Of Incident',\n",
              " 'Route',\n",
              " 'Operator',\n",
              " 'Group Name',\n",
              " 'Bus Garage',\n",
              " 'Borough',\n",
              " 'Injury Result Description',\n",
              " 'Incident Event Type',\n",
              " 'Victim Category',\n",
              " 'Victims Sex',\n",
              " 'Victims Age']"
            ]
          },
          "metadata": {},
          "execution_count": 169
        }
      ],
      "source": [
        "# Lista as colunas\n",
        "from pyspark.sql.types import *\n",
        "df_dsa.columns"
      ]
    },
    {
      "cell_type": "code",
      "execution_count": null,
      "metadata": {
        "id": "hS2sOI9lIN3Z"
      },
      "outputs": [],
      "source": [
        "# Definir a lista de colunas e tipos\n",
        "labels = [\n",
        "    ('Year', IntegerType()),\n",
        "    ('Date Of Incident', DateType()),  # Vamos usar StringType temporariamente\n",
        "    ('Route', StringType()),\n",
        "    ('Operator', StringType()),\n",
        "    ('Group Name', StringType()),\n",
        "    ('Bus Garage', StringType()),\n",
        "    ('Borough', StringType()),\n",
        "    ('Injury Result Description', StringType()),\n",
        "    ('Incident Event Type', StringType()),\n",
        "    ('Victim Category', StringType()),\n",
        "    ('Victims Sex', StringType()),\n",
        "    ('Victims Age', StringType())\n",
        "]\n"
      ]
    },
    {
      "cell_type": "code",
      "execution_count": null,
      "metadata": {
        "id": "LLewpWIuIXxN",
        "colab": {
          "base_uri": "https://localhost:8080/"
        },
        "outputId": "797e2877-7597-4f2d-95ec-d477aaf65766"
      },
      "outputs": [
        {
          "output_type": "execute_result",
          "data": {
            "text/plain": [
              "StructType([StructField('Year', IntegerType(), True), StructField('Date Of Incident', DateType(), True), StructField('Route', StringType(), True), StructField('Operator', StringType(), True), StructField('Group Name', StringType(), True), StructField('Bus Garage', StringType(), True), StructField('Borough', StringType(), True), StructField('Injury Result Description', StringType(), True), StructField('Incident Event Type', StringType(), True), StructField('Victim Category', StringType(), True), StructField('Victims Sex', StringType(), True), StructField('Victims Age', StringType(), True)])"
            ]
          },
          "metadata": {},
          "execution_count": 171
        }
      ],
      "source": [
        "# Criando o esquema que será passado na leitura do arquivo\n",
        "schema = StructType([StructField (x[0], x[1], True) for x in labels])\n",
        "schema"
      ]
    },
    {
      "cell_type": "code",
      "execution_count": null,
      "metadata": {
        "colab": {
          "base_uri": "https://localhost:8080/"
        },
        "id": "AnZmU-k2hLt_",
        "outputId": "14737ce6-1d8a-41b2-8171-cd64f95ec455"
      },
      "outputs": [
        {
          "output_type": "stream",
          "name": "stdout",
          "text": [
            "+----+----------------+-----+--------------+-------------+--------------------+--------------------+---------------------------------------------------------------+-------------------+---------------+-----------+-----------+\n",
            "|Year|Date Of Incident|Route|Operator      |Group Name   |Bus Garage          |Borough             |Injury Result Description                                      |Incident Event Type|Victim Category|Victims Sex|Victims Age|\n",
            "+----+----------------+-----+--------------+-------------+--------------------+--------------------+---------------------------------------------------------------+-------------------+---------------+-----------+-----------+\n",
            "|2015|2015-01-01      |1    |London General|Go-Ahead     |Garage Not Available|Southwark           |Injuries treated on scene                                      |Onboard Injuries   |Passenger      |Male       |Child      |\n",
            "|2015|2015-01-01      |4    |Metroline     |Metroline    |Garage Not Available|Islington           |Injuries treated on scene                                      |Onboard Injuries   |Passenger      |Male       |Unknown    |\n",
            "|2015|2015-01-01      |5    |East London   |Stagecoach   |Garage Not Available|Havering            |Taken to Hospital � Reported Serious Injury or Severity Unknown|Onboard Injuries   |Passenger      |Male       |Elderly    |\n",
            "|2015|2015-01-01      |5    |East London   |Stagecoach   |Garage Not Available|None London Borough |Taken to Hospital � Reported Serious Injury or Severity Unknown|Onboard Injuries   |Passenger      |Male       |Elderly    |\n",
            "|2015|2015-01-01      |6    |Metroline     |Metroline    |Garage Not Available|Westminster         |Reported Minor Injury - Treated at Hospital                    |Onboard Injuries   |Pedestrian     |Female     |Elderly    |\n",
            "|2015|2015-01-01      |6    |Metroline     |Metroline    |Garage Not Available|Westminster         |Taken to Hospital � Reported Serious Injury or Severity Unknown|Onboard Injuries   |Passenger      |Female     |Elderly    |\n",
            "|2015|2015-01-01      |8    |Selkent       |Stagecoach   |Garage Not Available|City of London      |Injuries treated on scene                                      |Onboard Injuries   |Passenger      |Male       |Adult      |\n",
            "|2015|2015-01-01      |9    |London United |London United|Garage Not Available|Hammersmith & Fulham|Injuries treated on scene                                      |Onboard Injuries   |Conductor      |Unknown    |Unknown    |\n",
            "|2015|2015-01-01      |10   |London United |London United|Garage Not Available|Westminster         |Injuries treated on scene                                      |Onboard Injuries   |Passenger      |Female     |Elderly    |\n",
            "|2015|2015-01-01      |11   |London General|Go-Ahead     |Garage Not Available|City of London      |Taken to Hospital � Reported Serious Injury or Severity Unknown|Onboard Injuries   |Passenger      |Female     |Adult      |\n",
            "|2015|2015-01-01      |11   |London General|Go-Ahead     |Garage Not Available|Westminster         |Injuries treated on scene                                      |Onboard Injuries   |Passenger      |Female     |Adult      |\n",
            "|2015|2015-01-01      |11   |London General|Go-Ahead     |Garage Not Available|Westminster         |Injuries treated on scene                                      |Onboard Injuries   |Passenger      |Female     |Adult      |\n",
            "|2015|2015-01-01      |12   |London Central|Go-Ahead     |Garage Not Available|Southwark           |Injuries treated on scene                                      |Onboard Injuries   |Passenger      |Female     |Adult      |\n",
            "|2015|2015-01-01      |12   |London Central|Go-Ahead     |Garage Not Available|Southwark           |Reported Minor Injury - Treated at Hospital                    |Onboard Injuries   |Passenger      |Male       |Child      |\n",
            "|2015|2015-01-01      |12   |London Central|Go-Ahead     |Garage Not Available|Southwark           |Taken to Hospital � Reported Serious Injury or Severity Unknown|Onboard Injuries   |Passenger      |Male       |Elderly    |\n",
            "|2015|2015-01-01      |12   |London Central|Go-Ahead     |Garage Not Available|Westminster         |Taken to Hospital � Reported Serious Injury or Severity Unknown|Onboard Injuries   |Passenger      |Female     |Unknown    |\n",
            "|2015|2015-01-01      |14   |London General|Go-Ahead     |Garage Not Available|Kensington & Chelsea|Injuries treated on scene                                      |Onboard Injuries   |Passenger      |Unknown    |Unknown    |\n",
            "|2015|2015-01-01      |14   |London General|Go-Ahead     |Garage Not Available|Westminster         |Reported Minor Injury - Treated at Hospital                    |Collision Incident |Pedestrian     |Unknown    |Unknown    |\n",
            "|2015|2015-01-01      |16   |Metroline     |Metroline    |Garage Not Available|Brent               |Taken to Hospital � Reported Serious Injury or Severity Unknown|Onboard Injuries   |Passenger      |Unknown    |Adult      |\n",
            "|2015|2015-01-01      |17   |Metroline     |Metroline    |Garage Not Available|Southwark           |Reported Minor Injury - Treated at Hospital                    |Onboard Injuries   |Pedestrian     |Male       |Unknown    |\n",
            "+----+----------------+-----+--------------+-------------+--------------------+--------------------+---------------------------------------------------------------+-------------------+---------------+-----------+-----------+\n",
            "only showing top 20 rows\n",
            "\n"
          ]
        }
      ],
      "source": [
        "# Visualiza os dados\n",
        "df_dsa.show(truncate = False)"
      ]
    },
    {
      "cell_type": "code",
      "source": [
        "df_dsa = df_dsa.withColumnRenamed('Group Name', 'Group_Name') \\\n",
        "               .withColumnRenamed('Bus Garage', 'Bus_Garage') \\\n",
        "               .withColumnRenamed('Victim Category', 'Victim_Category')\\\n",
        "               .withColumnRenamed('Victims Sex', 'Genero')\\\n",
        "               .withColumnRenamed('Victims Age', 'Victims_Age')\\\n",
        "               .withColumnRenamed('Injury Result Description', 'Injury_Result_Description')\\\n",
        "               .withColumnRenamed('Incident Event Type', 'Incident_Event_Type')\\\n",
        "               .withColumnRenamed('Date Of Incident', 'Date')\n",
        "\n",
        "df_dsa.show(truncate = False)"
      ],
      "metadata": {
        "colab": {
          "base_uri": "https://localhost:8080/"
        },
        "id": "NN-nPh9JeP2Y",
        "outputId": "7b310d72-0758-4594-9432-b0c533857e4e"
      },
      "execution_count": null,
      "outputs": [
        {
          "output_type": "stream",
          "name": "stdout",
          "text": [
            "+----+----------+-----+--------------+-------------+--------------------+--------------------+---------------------------------------------------------------+-------------------+---------------+-------+-----------+\n",
            "|Year|Date      |Route|Operator      |Group_Name   |Bus_Garage          |Borough             |Injury_Result_Description                                      |Incident_Event_Type|Victim_Category|Genero |Victims_Age|\n",
            "+----+----------+-----+--------------+-------------+--------------------+--------------------+---------------------------------------------------------------+-------------------+---------------+-------+-----------+\n",
            "|2015|2015-01-01|1    |London General|Go-Ahead     |Garage Not Available|Southwark           |Injuries treated on scene                                      |Onboard Injuries   |Passenger      |Male   |Child      |\n",
            "|2015|2015-01-01|4    |Metroline     |Metroline    |Garage Not Available|Islington           |Injuries treated on scene                                      |Onboard Injuries   |Passenger      |Male   |Unknown    |\n",
            "|2015|2015-01-01|5    |East London   |Stagecoach   |Garage Not Available|Havering            |Taken to Hospital � Reported Serious Injury or Severity Unknown|Onboard Injuries   |Passenger      |Male   |Elderly    |\n",
            "|2015|2015-01-01|5    |East London   |Stagecoach   |Garage Not Available|None London Borough |Taken to Hospital � Reported Serious Injury or Severity Unknown|Onboard Injuries   |Passenger      |Male   |Elderly    |\n",
            "|2015|2015-01-01|6    |Metroline     |Metroline    |Garage Not Available|Westminster         |Reported Minor Injury - Treated at Hospital                    |Onboard Injuries   |Pedestrian     |Female |Elderly    |\n",
            "|2015|2015-01-01|6    |Metroline     |Metroline    |Garage Not Available|Westminster         |Taken to Hospital � Reported Serious Injury or Severity Unknown|Onboard Injuries   |Passenger      |Female |Elderly    |\n",
            "|2015|2015-01-01|8    |Selkent       |Stagecoach   |Garage Not Available|City of London      |Injuries treated on scene                                      |Onboard Injuries   |Passenger      |Male   |Adult      |\n",
            "|2015|2015-01-01|9    |London United |London United|Garage Not Available|Hammersmith & Fulham|Injuries treated on scene                                      |Onboard Injuries   |Conductor      |Unknown|Unknown    |\n",
            "|2015|2015-01-01|10   |London United |London United|Garage Not Available|Westminster         |Injuries treated on scene                                      |Onboard Injuries   |Passenger      |Female |Elderly    |\n",
            "|2015|2015-01-01|11   |London General|Go-Ahead     |Garage Not Available|City of London      |Taken to Hospital � Reported Serious Injury or Severity Unknown|Onboard Injuries   |Passenger      |Female |Adult      |\n",
            "|2015|2015-01-01|11   |London General|Go-Ahead     |Garage Not Available|Westminster         |Injuries treated on scene                                      |Onboard Injuries   |Passenger      |Female |Adult      |\n",
            "|2015|2015-01-01|11   |London General|Go-Ahead     |Garage Not Available|Westminster         |Injuries treated on scene                                      |Onboard Injuries   |Passenger      |Female |Adult      |\n",
            "|2015|2015-01-01|12   |London Central|Go-Ahead     |Garage Not Available|Southwark           |Injuries treated on scene                                      |Onboard Injuries   |Passenger      |Female |Adult      |\n",
            "|2015|2015-01-01|12   |London Central|Go-Ahead     |Garage Not Available|Southwark           |Reported Minor Injury - Treated at Hospital                    |Onboard Injuries   |Passenger      |Male   |Child      |\n",
            "|2015|2015-01-01|12   |London Central|Go-Ahead     |Garage Not Available|Southwark           |Taken to Hospital � Reported Serious Injury or Severity Unknown|Onboard Injuries   |Passenger      |Male   |Elderly    |\n",
            "|2015|2015-01-01|12   |London Central|Go-Ahead     |Garage Not Available|Westminster         |Taken to Hospital � Reported Serious Injury or Severity Unknown|Onboard Injuries   |Passenger      |Female |Unknown    |\n",
            "|2015|2015-01-01|14   |London General|Go-Ahead     |Garage Not Available|Kensington & Chelsea|Injuries treated on scene                                      |Onboard Injuries   |Passenger      |Unknown|Unknown    |\n",
            "|2015|2015-01-01|14   |London General|Go-Ahead     |Garage Not Available|Westminster         |Reported Minor Injury - Treated at Hospital                    |Collision Incident |Pedestrian     |Unknown|Unknown    |\n",
            "|2015|2015-01-01|16   |Metroline     |Metroline    |Garage Not Available|Brent               |Taken to Hospital � Reported Serious Injury or Severity Unknown|Onboard Injuries   |Passenger      |Unknown|Adult      |\n",
            "|2015|2015-01-01|17   |Metroline     |Metroline    |Garage Not Available|Southwark           |Reported Minor Injury - Treated at Hospital                    |Onboard Injuries   |Pedestrian     |Male   |Unknown    |\n",
            "+----+----------+-----+--------------+-------------+--------------------+--------------------+---------------------------------------------------------------+-------------------+---------------+-------+-----------+\n",
            "only showing top 20 rows\n",
            "\n"
          ]
        }
      ]
    },
    {
      "cell_type": "markdown",
      "source": [
        "**1. Quantidade de incidentes por gênero**"
      ],
      "metadata": {
        "id": "BPqPanxrdkJu"
      }
    },
    {
      "cell_type": "code",
      "source": [
        "# Group By por coluna com PySpark\n",
        "df_dsa.groupBy('Genero').count().show()"
      ],
      "metadata": {
        "id": "SnHVllxaydC8",
        "colab": {
          "base_uri": "https://localhost:8080/"
        },
        "outputId": "2f0c950a-e906-45f6-e15b-6b8d72235b3a"
      },
      "execution_count": null,
      "outputs": [
        {
          "output_type": "stream",
          "name": "stdout",
          "text": [
            "+-------+-----+\n",
            "| Genero|count|\n",
            "+-------+-----+\n",
            "| Female|11847|\n",
            "|Unknown| 3602|\n",
            "|   Male| 7709|\n",
            "+-------+-----+\n",
            "\n"
          ]
        }
      ]
    },
    {
      "cell_type": "markdown",
      "source": [
        "2. Faixa etária esteve mais envolvida nos incidentes"
      ],
      "metadata": {
        "id": "aoOen6H1f6qq"
      }
    },
    {
      "cell_type": "code",
      "source": [
        "# Group By por coluna com PySpark\n",
        "df_dsa.groupBy('Victims_Age').count().show()"
      ],
      "metadata": {
        "colab": {
          "base_uri": "https://localhost:8080/"
        },
        "outputId": "96502731-82c4-430c-e275-2bb67f59b621",
        "id": "fDDVwH1agAkk"
      },
      "execution_count": null,
      "outputs": [
        {
          "output_type": "stream",
          "name": "stdout",
          "text": [
            "+-----------+-----+\n",
            "|Victims_Age|count|\n",
            "+-----------+-----+\n",
            "|    Unknown| 7135|\n",
            "|      Youth|  319|\n",
            "|      Adult|10754|\n",
            "|      Child| 2181|\n",
            "|    Elderly| 2769|\n",
            "+-----------+-----+\n",
            "\n"
          ]
        }
      ]
    },
    {
      "cell_type": "markdown",
      "source": [
        "**3. Qual o percentual de incidentes por tipo de evento (Incident Event Type)**"
      ],
      "metadata": {
        "id": "6t7t_DIEgKW4"
      }
    },
    {
      "cell_type": "code",
      "source": [
        "from pyspark.sql import SparkSession\n",
        "from pyspark.sql.functions import col,avg\n"
      ],
      "metadata": {
        "id": "T1cW8pHujac3"
      },
      "execution_count": null,
      "outputs": []
    },
    {
      "cell_type": "code",
      "source": [
        "Event_Type = df_dsa.groupBy('Incident_Event_Type').count()\n",
        "total_incidents = Event_Type.agg({\"count\": \"sum\"}).collect()[0][0]\n",
        "event_type_percentages = Event_Type.withColumn(\"Percentage\", (col(\"count\") / total_incidents) * 100)\n",
        "event_type_percentages.show()"
      ],
      "metadata": {
        "colab": {
          "base_uri": "https://localhost:8080/"
        },
        "id": "1IrvCcWYgMq0",
        "outputId": "0974307b-0bcf-4d53-9708-50ac4649d265"
      },
      "execution_count": null,
      "outputs": [
        {
          "output_type": "stream",
          "name": "stdout",
          "text": [
            "+--------------------+-----+--------------------+\n",
            "| Incident_Event_Type|count|          Percentage|\n",
            "+--------------------+-----+--------------------+\n",
            "|Vandalism Hooliga...|   73|   0.315225839882546|\n",
            "|     Personal Injury| 4596|   19.84627342602988|\n",
            "|             Assault|  590|   2.547715692201399|\n",
            "|             Robbery|    3|0.012954486570515587|\n",
            "|    Onboard Injuries| 6563|  28.340098454097934|\n",
            "|  Collision Incident| 4166|   17.98946368425598|\n",
            "|Activity Incident...|  114|  0.4922704896795924|\n",
            "|                Fire|    6|0.025908973141031175|\n",
            "|      Slip Trip Fall| 6981|  30.145090249589774|\n",
            "|Safety Critical F...|   66| 0.28499870455134296|\n",
            "+--------------------+-----+--------------------+\n",
            "\n"
          ]
        }
      ]
    },
    {
      "cell_type": "markdown",
      "source": [
        "**4. Evolução de incidentes por mês ao longo do tempo**"
      ],
      "metadata": {
        "id": "MZ8gzMv_mUFy"
      }
    },
    {
      "cell_type": "code",
      "source": [
        "from pyspark.sql import SparkSession\n",
        "from pyspark.sql.functions import *"
      ],
      "metadata": {
        "id": "pFIM2UU1pEoc"
      },
      "execution_count": null,
      "outputs": []
    },
    {
      "cell_type": "code",
      "source": [
        "# Extrair o mês da coluna \"YearMonth\" e criar uma nova coluna \"Month\"\n",
        "MonthYear = df_dsa.withColumn(\"Date\", substring(\"Date\", 1, 7))\n",
        "\n",
        "MonthYear = MonthYear.withColumn(\"Month\", substring(\"Date\", 6, 2))\n",
        "\n",
        "\n",
        "MonthYear.show()"
      ],
      "metadata": {
        "colab": {
          "base_uri": "https://localhost:8080/"
        },
        "id": "7vM3br49offX",
        "outputId": "1619fe62-c558-451c-faa0-0ff7a4f2b9cc"
      },
      "execution_count": null,
      "outputs": [
        {
          "output_type": "stream",
          "name": "stdout",
          "text": [
            "+----+-------+-----+--------------+-------------+--------------------+--------------------+-------------------------+-------------------+---------------+-------+-----------+-----+\n",
            "|Year|   Date|Route|      Operator|   Group_Name|          Bus_Garage|             Borough|Injury_Result_Description|Incident_Event_Type|Victim_Category| Genero|Victims_Age|Month|\n",
            "+----+-------+-----+--------------+-------------+--------------------+--------------------+-------------------------+-------------------+---------------+-------+-----------+-----+\n",
            "|2015|2015-01|    1|London General|     Go-Ahead|Garage Not Available|           Southwark|     Injuries treated ...|   Onboard Injuries|      Passenger|   Male|      Child|   01|\n",
            "|2015|2015-01|    4|     Metroline|    Metroline|Garage Not Available|           Islington|     Injuries treated ...|   Onboard Injuries|      Passenger|   Male|    Unknown|   01|\n",
            "|2015|2015-01|    5|   East London|   Stagecoach|Garage Not Available|            Havering|     Taken to Hospital...|   Onboard Injuries|      Passenger|   Male|    Elderly|   01|\n",
            "|2015|2015-01|    5|   East London|   Stagecoach|Garage Not Available| None London Borough|     Taken to Hospital...|   Onboard Injuries|      Passenger|   Male|    Elderly|   01|\n",
            "|2015|2015-01|    6|     Metroline|    Metroline|Garage Not Available|         Westminster|     Reported Minor In...|   Onboard Injuries|     Pedestrian| Female|    Elderly|   01|\n",
            "|2015|2015-01|    6|     Metroline|    Metroline|Garage Not Available|         Westminster|     Taken to Hospital...|   Onboard Injuries|      Passenger| Female|    Elderly|   01|\n",
            "|2015|2015-01|    8|       Selkent|   Stagecoach|Garage Not Available|      City of London|     Injuries treated ...|   Onboard Injuries|      Passenger|   Male|      Adult|   01|\n",
            "|2015|2015-01|    9| London United|London United|Garage Not Available|Hammersmith & Fulham|     Injuries treated ...|   Onboard Injuries|      Conductor|Unknown|    Unknown|   01|\n",
            "|2015|2015-01|   10| London United|London United|Garage Not Available|         Westminster|     Injuries treated ...|   Onboard Injuries|      Passenger| Female|    Elderly|   01|\n",
            "|2015|2015-01|   11|London General|     Go-Ahead|Garage Not Available|      City of London|     Taken to Hospital...|   Onboard Injuries|      Passenger| Female|      Adult|   01|\n",
            "|2015|2015-01|   11|London General|     Go-Ahead|Garage Not Available|         Westminster|     Injuries treated ...|   Onboard Injuries|      Passenger| Female|      Adult|   01|\n",
            "|2015|2015-01|   11|London General|     Go-Ahead|Garage Not Available|         Westminster|     Injuries treated ...|   Onboard Injuries|      Passenger| Female|      Adult|   01|\n",
            "|2015|2015-01|   12|London Central|     Go-Ahead|Garage Not Available|           Southwark|     Injuries treated ...|   Onboard Injuries|      Passenger| Female|      Adult|   01|\n",
            "|2015|2015-01|   12|London Central|     Go-Ahead|Garage Not Available|           Southwark|     Reported Minor In...|   Onboard Injuries|      Passenger|   Male|      Child|   01|\n",
            "|2015|2015-01|   12|London Central|     Go-Ahead|Garage Not Available|           Southwark|     Taken to Hospital...|   Onboard Injuries|      Passenger|   Male|    Elderly|   01|\n",
            "|2015|2015-01|   12|London Central|     Go-Ahead|Garage Not Available|         Westminster|     Taken to Hospital...|   Onboard Injuries|      Passenger| Female|    Unknown|   01|\n",
            "|2015|2015-01|   14|London General|     Go-Ahead|Garage Not Available|Kensington & Chelsea|     Injuries treated ...|   Onboard Injuries|      Passenger|Unknown|    Unknown|   01|\n",
            "|2015|2015-01|   14|London General|     Go-Ahead|Garage Not Available|         Westminster|     Reported Minor In...| Collision Incident|     Pedestrian|Unknown|    Unknown|   01|\n",
            "|2015|2015-01|   16|     Metroline|    Metroline|Garage Not Available|               Brent|     Taken to Hospital...|   Onboard Injuries|      Passenger|Unknown|      Adult|   01|\n",
            "|2015|2015-01|   17|     Metroline|    Metroline|Garage Not Available|           Southwark|     Reported Minor In...|   Onboard Injuries|     Pedestrian|   Male|    Unknown|   01|\n",
            "+----+-------+-----+--------------+-------------+--------------------+--------------------+-------------------------+-------------------+---------------+-------+-----------+-----+\n",
            "only showing top 20 rows\n",
            "\n"
          ]
        }
      ]
    },
    {
      "cell_type": "code",
      "source": [
        "Event_Date = MonthYear.groupBy('Incident_Event_Type','Month', 'Year').count().orderBy( 'Year','Month', ascending = False).show()\n"
      ],
      "metadata": {
        "colab": {
          "base_uri": "https://localhost:8080/"
        },
        "id": "xDI7VZH1rwZG",
        "outputId": "56eea769-9ca1-4392-b6d5-7778bb310b83"
      },
      "execution_count": null,
      "outputs": [
        {
          "output_type": "stream",
          "name": "stdout",
          "text": [
            "+--------------------+-----+----+-----+\n",
            "| Incident_Event_Type|Month|Year|count|\n",
            "+--------------------+-----+----+-----+\n",
            "|  Collision Incident|   09|2018|   70|\n",
            "|             Assault|   09|2018|    6|\n",
            "|     Personal Injury|   09|2018|  169|\n",
            "|      Slip Trip Fall|   09|2018|  239|\n",
            "|Activity Incident...|   09|2018|    4|\n",
            "|Safety Critical F...|   09|2018|    2|\n",
            "|Vandalism Hooliga...|   09|2018|    1|\n",
            "|Safety Critical F...|   08|2018|    1|\n",
            "|  Collision Incident|   08|2018|   57|\n",
            "|      Slip Trip Fall|   08|2018|  224|\n",
            "|Activity Incident...|   08|2018|    1|\n",
            "|             Assault|   08|2018|   11|\n",
            "|     Personal Injury|   08|2018|  195|\n",
            "|Vandalism Hooliga...|   08|2018|    2|\n",
            "|      Slip Trip Fall|   07|2018|  275|\n",
            "|             Assault|   07|2018|    7|\n",
            "|Activity Incident...|   07|2018|    6|\n",
            "|  Collision Incident|   07|2018|   73|\n",
            "|     Personal Injury|   07|2018|  191|\n",
            "|Vandalism Hooliga...|   07|2018|    1|\n",
            "+--------------------+-----+----+-----+\n",
            "only showing top 20 rows\n",
            "\n"
          ]
        }
      ]
    },
    {
      "cell_type": "markdown",
      "source": [
        "**5. Quando o incidente foi “Collision Incident” em qual mês houve o maior número de incidentes envolvendo pessoas do sexo feminino?**"
      ],
      "metadata": {
        "id": "mxiii6ePqYIs"
      }
    },
    {
      "cell_type": "code",
      "source": [
        "Collision_Incident = MonthYear.groupBy('Incident_Event_Type','Month', 'Year','Genero').count().orderBy( 'Month','Genero', ascending = False)\n",
        "# Filtrar apenas os incidentes \"Collision Incident\"\n",
        "\n",
        "Collision_Incident_filter = Collision_Incident.filter(col('Incident_Event_Type')=='Collision Incident')\n",
        "\n",
        "# Filtrar apenas incidentes envolvendo pessoas do sexo feminino\n",
        "\n",
        "Collision_Incident_female = Collision_Incident_filter.filter(col('Genero') == 'Female')\n",
        "\n",
        "# Encontrar o mês com o maior número de incidentes\n",
        "\n",
        "max_incidents_month = Collision_Incident_female.groupBy('Month', 'Year').agg({'count': 'max'}).orderBy('max(count)', ascending=False).first()\n",
        "\n",
        "# Exibir o resultado\n",
        "print(\"Mês com o maior número de incidentes envolvendo mulheres: \")\n",
        "print(\"Mês: \" , (max_incidents_month['Month']))\n",
        "print(\"Ano: \" , (max_incidents_month['Year']))\n",
        "print(\"Número de Incidentes: \" + str(max_incidents_month['max(count)']))\n"
      ],
      "metadata": {
        "colab": {
          "base_uri": "https://localhost:8080/"
        },
        "id": "zHgxXT2lqXVk",
        "outputId": "53c65453-013d-4b35-b453-1a54b96bfa26"
      },
      "execution_count": null,
      "outputs": [
        {
          "output_type": "stream",
          "name": "stdout",
          "text": [
            "Mês com o maior número de incidentes envolvendo mulheres: \n",
            "Mês:  11\n",
            "Ano:  2016\n",
            "Número de Incidentes: 63\n"
          ]
        }
      ]
    },
    {
      "cell_type": "markdown",
      "source": [],
      "metadata": {
        "id": "6d2-lcHx00gF"
      }
    },
    {
      "cell_type": "markdown",
      "source": [
        "**6. Qual foi a média de incidentes por mês envolvendo crianças (Child)?**"
      ],
      "metadata": {
        "id": "Jjxwp4-eoNTW"
      }
    },
    {
      "cell_type": "code",
      "source": [
        "from pyspark.sql import SparkSession\n",
        "from pyspark.sql.functions import col,avg\n",
        "from pyspark.sql.window import Window\n"
      ],
      "metadata": {
        "id": "ILU2cjIaBvlq"
      },
      "execution_count": null,
      "outputs": []
    },
    {
      "cell_type": "code",
      "source": [
        "Victims_Age = MonthYear.groupBy('Victims_Age', 'Month', 'Year').count().orderBy( 'Month','Victims_Age', ascending = False)\n",
        "Victims_Age_filter = Victims_Age.filter(col('Victims_Age')=='Child')\n",
        "media_Victims_Age_month = Victims_Age_filter.groupBy('Month', 'Year').agg({'count': 'avg'}).orderBy('avg(count)', ascending=False).first()\n",
        "print(\"Mês com o maior número de incidentes envolvendo crianças: \")\n",
        "print(\"Mês: \" , (media_Victims_Age_month['Month']))\n",
        "print(\"Ano: \" , (media_Victims_Age_month['Year']))\n",
        "print(\"Número de Incidentes: \" + str(media_Victims_Age_month['avg(count)']))\n"
      ],
      "metadata": {
        "id": "zxo3UbKEh6mq",
        "colab": {
          "base_uri": "https://localhost:8080/"
        },
        "outputId": "73658b69-e9d9-4208-9689-a0427ebb4796"
      },
      "execution_count": null,
      "outputs": [
        {
          "output_type": "stream",
          "name": "stdout",
          "text": [
            "Mês com o maior número de incidentes envolvendo crianças: \n",
            "Mês:  10\n",
            "Ano:  2017\n",
            "Número de Incidentes: 70.0\n"
          ]
        }
      ]
    },
    {
      "cell_type": "markdown",
      "source": [
        "**Considerando a descrição de incidente como “Injuries treated on scene” (coluna Injury Result Description), qual o total de incidentes de pessoas do sexo masculino e sexo feminino?**\n",
        "\n"
      ],
      "metadata": {
        "id": "Uapn7c4hOodc"
      }
    },
    {
      "cell_type": "code",
      "source": [
        "# Functions\n",
        "from pyspark.sql import functions\n",
        "print(dir(functions))"
      ],
      "metadata": {
        "colab": {
          "base_uri": "https://localhost:8080/"
        },
        "id": "y0wSIWFbOh_U",
        "outputId": "2557d849-204c-45de-a89a-a0fc7d0fe6e9"
      },
      "execution_count": null,
      "outputs": [
        {
          "output_type": "stream",
          "name": "stdout",
          "text": [
            "['Any', 'ArrayType', 'Callable', 'Column', 'DataFrame', 'DataType', 'Dict', 'Iterable', 'JVMView', 'List', 'Optional', 'PandasUDFType', 'PySparkTypeError', 'PySparkValueError', 'PythonEvalType', 'SparkContext', 'StringType', 'StructType', 'TYPE_CHECKING', 'Tuple', 'Union', 'UserDefinedFunction', 'ValuesView', '__builtins__', '__cached__', '__doc__', '__file__', '__loader__', '__name__', '__package__', '__spec__', '_create_column_from_literal', '_create_lambda', '_create_py_udf', '_from_numpy_type', '_get_jvm_function', '_get_lambda_parameters', '_invoke_binary_math_function', '_invoke_function', '_invoke_function_over_columns', '_invoke_function_over_seq_of_columns', '_invoke_higher_order_function', '_options_to_str', '_test', '_to_java_column', '_to_seq', '_unresolved_named_lambda_variable', 'abs', 'acos', 'acosh', 'add_months', 'aggregate', 'approxCountDistinct', 'approx_count_distinct', 'array', 'array_append', 'array_compact', 'array_contains', 'array_distinct', 'array_except', 'array_insert', 'array_intersect', 'array_join', 'array_max', 'array_min', 'array_position', 'array_remove', 'array_repeat', 'array_sort', 'array_union', 'arrays_overlap', 'arrays_zip', 'asc', 'asc_nulls_first', 'asc_nulls_last', 'ascii', 'asin', 'asinh', 'assert_true', 'atan', 'atan2', 'atanh', 'avg', 'base64', 'bin', 'bit_length', 'bitwiseNOT', 'bitwise_not', 'broadcast', 'bround', 'bucket', 'call_udf', 'cast', 'cbrt', 'ceil', 'coalesce', 'col', 'collect_list', 'collect_set', 'column', 'concat', 'concat_ws', 'conv', 'corr', 'cos', 'cosh', 'cot', 'count', 'countDistinct', 'count_distinct', 'covar_pop', 'covar_samp', 'crc32', 'create_map', 'csc', 'cume_dist', 'current_date', 'current_timestamp', 'date_add', 'date_format', 'date_sub', 'date_trunc', 'datediff', 'dayofmonth', 'dayofweek', 'dayofyear', 'days', 'decode', 'degrees', 'dense_rank', 'desc', 'desc_nulls_first', 'desc_nulls_last', 'element_at', 'encode', 'exists', 'exp', 'explode', 'explode_outer', 'expm1', 'expr', 'factorial', 'filter', 'first', 'flatten', 'floor', 'forall', 'format_number', 'format_string', 'from_csv', 'from_json', 'from_unixtime', 'from_utc_timestamp', 'functools', 'get', 'get_active_spark_context', 'get_json_object', 'greatest', 'grouping', 'grouping_id', 'has_numpy', 'hash', 'hex', 'hour', 'hours', 'hypot', 'initcap', 'inline', 'inline_outer', 'input_file_name', 'inspect', 'instr', 'isnan', 'isnull', 'json_tuple', 'kurtosis', 'lag', 'last', 'last_day', 'lead', 'least', 'length', 'levenshtein', 'lit', 'localtimestamp', 'locate', 'log', 'log10', 'log1p', 'log2', 'lower', 'lpad', 'ltrim', 'make_date', 'map_concat', 'map_contains_key', 'map_entries', 'map_filter', 'map_from_arrays', 'map_from_entries', 'map_keys', 'map_values', 'map_zip_with', 'max', 'max_by', 'md5', 'mean', 'median', 'min', 'min_by', 'minute', 'mode', 'monotonically_increasing_id', 'month', 'months', 'months_between', 'nanvl', 'next_day', 'np', 'nth_value', 'ntile', 'octet_length', 'overlay', 'overload', 'pandas_udf', 'percent_rank', 'percentile_approx', 'pmod', 'posexplode', 'posexplode_outer', 'pow', 'product', 'quarter', 'radians', 'raise_error', 'rand', 'randn', 'rank', 'regexp_extract', 'regexp_replace', 'repeat', 'reverse', 'rint', 'round', 'row_number', 'rpad', 'rtrim', 'schema_of_csv', 'schema_of_json', 'sec', 'second', 'sentences', 'sequence', 'session_window', 'sha1', 'sha2', 'shiftLeft', 'shiftRight', 'shiftRightUnsigned', 'shiftleft', 'shiftright', 'shiftrightunsigned', 'shuffle', 'signum', 'sin', 'sinh', 'size', 'skewness', 'slice', 'sort_array', 'soundex', 'spark_partition_id', 'split', 'sqrt', 'stddev', 'stddev_pop', 'stddev_samp', 'struct', 'substring', 'substring_index', 'sum', 'sumDistinct', 'sum_distinct', 'sys', 'tan', 'tanh', 'timestamp_seconds', 'toDegrees', 'toRadians', 'to_csv', 'to_date', 'to_json', 'to_str', 'to_timestamp', 'to_utc_timestamp', 'transform', 'transform_keys', 'transform_values', 'translate', 'trim', 'trunc', 'try_remote_functions', 'udf', 'unbase64', 'unhex', 'unix_timestamp', 'unwrap_udt', 'upper', 'var_pop', 'var_samp', 'variance', 'warnings', 'weekofyear', 'when', 'window', 'window_time', 'xxhash64', 'year', 'years', 'zip_with']\n"
          ]
        }
      ]
    },
    {
      "cell_type": "code",
      "source": [
        "# Registra uma Temporary Table\n",
        "\n",
        "MonthYear.createOrReplaceTempView(\"temp\")"
      ],
      "metadata": {
        "id": "eyT5WvCAOh6L"
      },
      "execution_count": null,
      "outputs": []
    },
    {
      "cell_type": "code",
      "source": [
        "#Select de 15 registros da tabela (SQL ANSI)\n",
        "spark.sql(\"select * from temp limit 15\").show(truncate = False)"
      ],
      "metadata": {
        "colab": {
          "base_uri": "https://localhost:8080/"
        },
        "id": "D1ycgf1JPfGR",
        "outputId": "e57c6853-bd1e-435a-e6c6-37a9a5871f10"
      },
      "execution_count": null,
      "outputs": [
        {
          "output_type": "stream",
          "name": "stdout",
          "text": [
            "+----+-------+-----+--------------+-------------+--------------------+--------------------+---------------------------------------------------------------+-------------------+---------------+-------+-----------+-----+\n",
            "|Year|Date   |Route|Operator      |Group_Name   |Bus_Garage          |Borough             |Injury_Result_Description                                      |Incident_Event_Type|Victim_Category|Genero |Victims_Age|Month|\n",
            "+----+-------+-----+--------------+-------------+--------------------+--------------------+---------------------------------------------------------------+-------------------+---------------+-------+-----------+-----+\n",
            "|2015|2015-01|1    |London General|Go-Ahead     |Garage Not Available|Southwark           |Injuries treated on scene                                      |Onboard Injuries   |Passenger      |Male   |Child      |01   |\n",
            "|2015|2015-01|4    |Metroline     |Metroline    |Garage Not Available|Islington           |Injuries treated on scene                                      |Onboard Injuries   |Passenger      |Male   |Unknown    |01   |\n",
            "|2015|2015-01|5    |East London   |Stagecoach   |Garage Not Available|Havering            |Taken to Hospital � Reported Serious Injury or Severity Unknown|Onboard Injuries   |Passenger      |Male   |Elderly    |01   |\n",
            "|2015|2015-01|5    |East London   |Stagecoach   |Garage Not Available|None London Borough |Taken to Hospital � Reported Serious Injury or Severity Unknown|Onboard Injuries   |Passenger      |Male   |Elderly    |01   |\n",
            "|2015|2015-01|6    |Metroline     |Metroline    |Garage Not Available|Westminster         |Reported Minor Injury - Treated at Hospital                    |Onboard Injuries   |Pedestrian     |Female |Elderly    |01   |\n",
            "|2015|2015-01|6    |Metroline     |Metroline    |Garage Not Available|Westminster         |Taken to Hospital � Reported Serious Injury or Severity Unknown|Onboard Injuries   |Passenger      |Female |Elderly    |01   |\n",
            "|2015|2015-01|8    |Selkent       |Stagecoach   |Garage Not Available|City of London      |Injuries treated on scene                                      |Onboard Injuries   |Passenger      |Male   |Adult      |01   |\n",
            "|2015|2015-01|9    |London United |London United|Garage Not Available|Hammersmith & Fulham|Injuries treated on scene                                      |Onboard Injuries   |Conductor      |Unknown|Unknown    |01   |\n",
            "|2015|2015-01|10   |London United |London United|Garage Not Available|Westminster         |Injuries treated on scene                                      |Onboard Injuries   |Passenger      |Female |Elderly    |01   |\n",
            "|2015|2015-01|11   |London General|Go-Ahead     |Garage Not Available|City of London      |Taken to Hospital � Reported Serious Injury or Severity Unknown|Onboard Injuries   |Passenger      |Female |Adult      |01   |\n",
            "|2015|2015-01|11   |London General|Go-Ahead     |Garage Not Available|Westminster         |Injuries treated on scene                                      |Onboard Injuries   |Passenger      |Female |Adult      |01   |\n",
            "|2015|2015-01|11   |London General|Go-Ahead     |Garage Not Available|Westminster         |Injuries treated on scene                                      |Onboard Injuries   |Passenger      |Female |Adult      |01   |\n",
            "|2015|2015-01|12   |London Central|Go-Ahead     |Garage Not Available|Southwark           |Injuries treated on scene                                      |Onboard Injuries   |Passenger      |Female |Adult      |01   |\n",
            "|2015|2015-01|12   |London Central|Go-Ahead     |Garage Not Available|Southwark           |Reported Minor Injury - Treated at Hospital                    |Onboard Injuries   |Passenger      |Male   |Child      |01   |\n",
            "|2015|2015-01|12   |London Central|Go-Ahead     |Garage Not Available|Southwark           |Taken to Hospital � Reported Serious Injury or Severity Unknown|Onboard Injuries   |Passenger      |Male   |Elderly    |01   |\n",
            "+----+-------+-----+--------------+-------------+--------------------+--------------------+---------------------------------------------------------------+-------------------+---------------+-------+-----------+-----+\n",
            "\n"
          ]
        }
      ]
    },
    {
      "cell_type": "code",
      "source": [
        "# Where, Group by e Order by\n",
        "RESULT = spark.sql(\"\"\"select Injury_Result_Description, Genero, COUNT(*)\n",
        "         FROM temp\n",
        "         WHERE Injury_Result_Description = 'Injuries treated on scene'\n",
        "         GROUP BY Injury_Result_Description, Genero\n",
        "         ORDER BY Injury_Result_Description, Genero desc\n",
        "\"\"\")\n",
        "\n",
        "RESULT.show()"
      ],
      "metadata": {
        "colab": {
          "base_uri": "https://localhost:8080/"
        },
        "id": "Sps5Hb-8PpWl",
        "outputId": "1a9c1d12-f0e7-4f0e-b28d-965ef906d0a5"
      },
      "execution_count": null,
      "outputs": [
        {
          "output_type": "stream",
          "name": "stdout",
          "text": [
            "+-------------------------+-------+--------+\n",
            "|Injury_Result_Description| Genero|count(1)|\n",
            "+-------------------------+-------+--------+\n",
            "|     Injuries treated ...|Unknown|    2888|\n",
            "|     Injuries treated ...|   Male|    5632|\n",
            "|     Injuries treated ...| Female|    8816|\n",
            "+-------------------------+-------+--------+\n",
            "\n"
          ]
        }
      ]
    },
    {
      "cell_type": "markdown",
      "source": [
        "**No ano de 2017 em qual mês houve mais incidentes com idosos (Elderly)**"
      ],
      "metadata": {
        "id": "BEQxsZZiSNGU"
      }
    },
    {
      "cell_type": "code",
      "source": [
        "from pyspark.sql import SparkSession\n",
        "from pyspark.sql.functions import col"
      ],
      "metadata": {
        "id": "_axcr7N_Tg89"
      },
      "execution_count": null,
      "outputs": []
    },
    {
      "cell_type": "code",
      "source": [
        "Elderly = spark.sql(\"\"\"select Victims_Age,Year, Month, COUNT(*)\n",
        "         FROM temp\n",
        "         WHERE Victims_Age = 'Elderly' and Year = '2017'\n",
        "         GROUP BY Victims_Age, Victims_Age,Year, Month\n",
        "         ORDER BY Victims_Age, Victims_Age,Year, Month desc\n",
        "\"\"\")\n",
        "\n",
        "Elderly.show(1)"
      ],
      "metadata": {
        "colab": {
          "base_uri": "https://localhost:8080/"
        },
        "id": "H38fxF8VSHQQ",
        "outputId": "59f50618-c90e-4622-aa60-d870820e6c02"
      },
      "execution_count": null,
      "outputs": [
        {
          "output_type": "stream",
          "name": "stdout",
          "text": [
            "+-----------+----+-----+--------+\n",
            "|Victims_Age|Year|Month|count(1)|\n",
            "+-----------+----+-----+--------+\n",
            "|    Elderly|2017|   12|      67|\n",
            "+-----------+----+-----+--------+\n",
            "only showing top 1 row\n",
            "\n"
          ]
        }
      ]
    },
    {
      "cell_type": "markdown",
      "source": [
        "\n",
        "\n",
        "**9.Considerando o Operador qual a distribuição de incidentes ao longo do tempo?**\n"
      ],
      "metadata": {
        "id": "sTdivYx2UoqC"
      }
    },
    {
      "cell_type": "code",
      "source": [
        "Operator = spark.sql(\"\"\"select Operator,Year, COUNT(*) as DIST\n",
        "         FROM temp\n",
        "         GROUP BY Operator, Year\n",
        "         ORDER BY Operator, Year desc\n",
        "\"\"\")\n",
        "\n",
        "Operator.show()"
      ],
      "metadata": {
        "colab": {
          "base_uri": "https://localhost:8080/"
        },
        "id": "GIkYDKzVUmyG",
        "outputId": "c7ccafac-750e-44e8-a169-a0e9a783e73e"
      },
      "execution_count": null,
      "outputs": [
        {
          "output_type": "stream",
          "name": "stdout",
          "text": [
            "+--------------------+----+----+\n",
            "|            Operator|Year|DIST|\n",
            "+--------------------+----+----+\n",
            "|      Abellio London|2018| 284|\n",
            "|      Abellio London|2017| 329|\n",
            "|      Abellio London|2016| 233|\n",
            "|      Abellio London|2015| 117|\n",
            "|        Abellio West|2018|  15|\n",
            "|        Abellio West|2017|  50|\n",
            "|        Abellio West|2016|  34|\n",
            "|        Abellio West|2015|  27|\n",
            "|Arriva Kent Thame...|2016|  34|\n",
            "|Arriva Kent Thame...|2015|  73|\n",
            "| Arriva London North|2018| 737|\n",
            "| Arriva London North|2017|1026|\n",
            "| Arriva London North|2016| 656|\n",
            "| Arriva London North|2015| 789|\n",
            "| Arriva London South|2018| 362|\n",
            "| Arriva London South|2017| 470|\n",
            "| Arriva London South|2016| 429|\n",
            "| Arriva London South|2015| 482|\n",
            "|   Arriva The Shires|2017|  72|\n",
            "|   Arriva The Shires|2016| 107|\n",
            "+--------------------+----+----+\n",
            "only showing top 20 rows\n",
            "\n"
          ]
        }
      ]
    },
    {
      "cell_type": "markdown",
      "source": [
        "**10. Qual o tipo de incidente mais comum com ciclistas?**"
      ],
      "metadata": {
        "id": "CXLpBglhVGzL"
      }
    },
    {
      "cell_type": "code",
      "source": [
        "Victim_Category = spark.sql(\"\"\"select Incident_Event_Type, COUNT(*) as DIST\n",
        "         FROM temp\n",
        "         WHERE Victim_Category = 'Cyclist'\n",
        "         GROUP BY Incident_Event_Type\n",
        "         ORDER BY Incident_Event_Type, DIST DESC\n",
        "\"\"\")\n",
        "\n",
        "Victim_Category.show()"
      ],
      "metadata": {
        "colab": {
          "base_uri": "https://localhost:8080/"
        },
        "id": "VOltIaDaaAoY",
        "outputId": "81f518e4-836a-4855-def7-33eb5b8a8451"
      },
      "execution_count": null,
      "outputs": [
        {
          "output_type": "stream",
          "name": "stdout",
          "text": [
            "+-------------------+----+\n",
            "|Incident_Event_Type|DIST|\n",
            "+-------------------+----+\n",
            "| Collision Incident| 256|\n",
            "|   Onboard Injuries|   4|\n",
            "|    Personal Injury|   8|\n",
            "|     Slip Trip Fall|   7|\n",
            "+-------------------+----+\n",
            "\n"
          ]
        }
      ]
    },
    {
      "cell_type": "markdown",
      "source": [
        "# Fim"
      ],
      "metadata": {
        "id": "crVHii7ZcESF"
      }
    }
  ],
  "metadata": {
    "colab": {
      "provenance": [],
      "authorship_tag": "ABX9TyP2IkxP2s2ISaBs3HNBQVVU",
      "include_colab_link": true
    },
    "kernelspec": {
      "display_name": "Python 3",
      "name": "python3"
    },
    "language_info": {
      "name": "python"
    }
  },
  "nbformat": 4,
  "nbformat_minor": 0
}